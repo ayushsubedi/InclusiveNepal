{
 "cells": [
  {
   "cell_type": "code",
   "execution_count": 1,
   "metadata": {},
   "outputs": [
    {
     "data": {
      "text/html": [
       "        <script type=\"text/javascript\">\n",
       "        window.PlotlyConfig = {MathJaxConfig: 'local'};\n",
       "        if (window.MathJax) {MathJax.Hub.Config({SVG: {font: \"STIX-Web\"}});}\n",
       "        if (typeof require !== 'undefined') {\n",
       "        require.undef(\"plotly\");\n",
       "        requirejs.config({\n",
       "            paths: {\n",
       "                'plotly': ['https://cdn.plot.ly/plotly-latest.min']\n",
       "            }\n",
       "        });\n",
       "        require(['plotly'], function(Plotly) {\n",
       "            window._Plotly = Plotly;\n",
       "        });\n",
       "        }\n",
       "        </script>\n",
       "        "
      ]
     },
     "metadata": {},
     "output_type": "display_data"
    }
   ],
   "source": [
    "import pandas as pd\n",
    "from bs4 import BeautifulSoup\n",
    "from urllib.request import Request, urlopen\n",
    "# Plotly\n",
    "import plotly\n",
    "from plotly.offline import init_notebook_mode, iplot\n",
    "import plotly.graph_objs as go\n",
    "import plotly.figure_factory as ff\n",
    "init_notebook_mode(connected=True)"
   ]
  },
  {
   "cell_type": "code",
   "execution_count": 2,
   "metadata": {
    "collapsed": true
   },
   "outputs": [],
   "source": [
    "site = \"https://www.onlinekhabar.com/\"\n",
    "hdr = {'User-Agent': 'Mozilla/5.0'}\n",
    "req = Request(site,headers=hdr)\n",
    "page = urlopen(req)\n",
    "soup = BeautifulSoup(page, \"lxml\")"
   ]
  },
  {
   "cell_type": "code",
   "execution_count": 3,
   "metadata": {},
   "outputs": [
    {
     "name": "stdout",
     "output_type": "stream",
     "text": [
      "image_count 136\n",
      "alt_count 1\n",
      "alt_count_percent 0.7352941176470588\n"
     ]
    }
   ],
   "source": [
    "\n",
    "image_count = 0\n",
    "alt_count = 0 \n",
    "collection = soup.findAll(\"img\")\n",
    "for img in collection:\n",
    "    image_count = image_count + 1\n",
    "    if 'alt' in img.attrs:\n",
    "        alt_count = alt_count + 1\n",
    "print (\"image_count\", image_count) \n",
    "print (\"alt_count\", alt_count) \n",
    "print (\"alt_count_percent\", alt_count/image_count*100)"
   ]
  },
  {
   "cell_type": "code",
   "execution_count": 3,
   "metadata": {
    "collapsed": true
   },
   "outputs": [],
   "source": [
    "df = pd.read_csv('data_sources/news_portals.csv')"
   ]
  },
  {
   "cell_type": "code",
   "execution_count": 4,
   "metadata": {},
   "outputs": [
    {
     "data": {
      "text/html": [
       "<div>\n",
       "<style>\n",
       "    .dataframe thead tr:only-child th {\n",
       "        text-align: right;\n",
       "    }\n",
       "\n",
       "    .dataframe thead th {\n",
       "        text-align: left;\n",
       "    }\n",
       "\n",
       "    .dataframe tbody tr th {\n",
       "        vertical-align: top;\n",
       "    }\n",
       "</style>\n",
       "<table border=\"1\" class=\"dataframe\">\n",
       "  <thead>\n",
       "    <tr style=\"text-align: right;\">\n",
       "      <th></th>\n",
       "      <th>Portal</th>\n",
       "      <th>Link</th>\n",
       "    </tr>\n",
       "  </thead>\n",
       "  <tbody>\n",
       "    <tr>\n",
       "      <th>0</th>\n",
       "      <td>Online Khabar</td>\n",
       "      <td>https://www.onlinekhabar.com/</td>\n",
       "    </tr>\n",
       "    <tr>\n",
       "      <th>1</th>\n",
       "      <td>eKantipur</td>\n",
       "      <td>http://www.ekantipur.com/</td>\n",
       "    </tr>\n",
       "    <tr>\n",
       "      <th>2</th>\n",
       "      <td>Setopati</td>\n",
       "      <td>https://www.setopati.com/</td>\n",
       "    </tr>\n",
       "    <tr>\n",
       "      <th>3</th>\n",
       "      <td>The Himalayan Times</td>\n",
       "      <td>https://thehimalayantimes.com/</td>\n",
       "    </tr>\n",
       "    <tr>\n",
       "      <th>4</th>\n",
       "      <td>My Republica</td>\n",
       "      <td>https://myrepublica.nagariknetwork.com/</td>\n",
       "    </tr>\n",
       "    <tr>\n",
       "      <th>5</th>\n",
       "      <td>Nepal News</td>\n",
       "      <td>https://www.nepalnews.com/</td>\n",
       "    </tr>\n",
       "    <tr>\n",
       "      <th>6</th>\n",
       "      <td>Gorkhapatra</td>\n",
       "      <td>http://www.gorkhapatraonline.com/</td>\n",
       "    </tr>\n",
       "    <tr>\n",
       "      <th>7</th>\n",
       "      <td>Nepali Times</td>\n",
       "      <td>https://www.nepalitimes.com/</td>\n",
       "    </tr>\n",
       "  </tbody>\n",
       "</table>\n",
       "</div>"
      ],
      "text/plain": [
       "                Portal                                     Link\n",
       "0        Online Khabar            https://www.onlinekhabar.com/\n",
       "1            eKantipur                http://www.ekantipur.com/\n",
       "2             Setopati                https://www.setopati.com/\n",
       "3  The Himalayan Times           https://thehimalayantimes.com/\n",
       "4         My Republica  https://myrepublica.nagariknetwork.com/\n",
       "5           Nepal News               https://www.nepalnews.com/\n",
       "6          Gorkhapatra        http://www.gorkhapatraonline.com/\n",
       "7         Nepali Times             https://www.nepalitimes.com/"
      ]
     },
     "execution_count": 4,
     "metadata": {},
     "output_type": "execute_result"
    }
   ],
   "source": [
    "df"
   ]
  },
  {
   "cell_type": "code",
   "execution_count": 5,
   "metadata": {
    "collapsed": true
   },
   "outputs": [],
   "source": [
    "def alt_counter(site):\n",
    "    try:\n",
    "        hdr = {'User-Agent': 'Mozilla/5.0'}\n",
    "        req = Request(site, headers=hdr)\n",
    "        page = urlopen(req)\n",
    "        soup = BeautifulSoup(page, \"lxml\")\n",
    "        image_count = 0\n",
    "        alt_count = 0 \n",
    "        collection = soup.findAll(\"img\")\n",
    "        for img in collection:\n",
    "            image_count = image_count + 1\n",
    "            if 'alt' in img.attrs:\n",
    "                alt_count = alt_count + 1\n",
    "        return (alt_count, image_count)\n",
    "    except:\n",
    "        return (None, None)"
   ]
  },
  {
   "cell_type": "code",
   "execution_count": 6,
   "metadata": {
    "collapsed": true
   },
   "outputs": [],
   "source": [
    "df['alt_count'],df['image_count']=zip(*df.Link.apply(alt_counter))"
   ]
  },
  {
   "cell_type": "code",
   "execution_count": 7,
   "metadata": {},
   "outputs": [
    {
     "data": {
      "text/html": [
       "<div>\n",
       "<style>\n",
       "    .dataframe thead tr:only-child th {\n",
       "        text-align: right;\n",
       "    }\n",
       "\n",
       "    .dataframe thead th {\n",
       "        text-align: left;\n",
       "    }\n",
       "\n",
       "    .dataframe tbody tr th {\n",
       "        vertical-align: top;\n",
       "    }\n",
       "</style>\n",
       "<table border=\"1\" class=\"dataframe\">\n",
       "  <thead>\n",
       "    <tr style=\"text-align: right;\">\n",
       "      <th></th>\n",
       "      <th>Portal</th>\n",
       "      <th>Link</th>\n",
       "      <th>alt_count</th>\n",
       "      <th>image_count</th>\n",
       "    </tr>\n",
       "  </thead>\n",
       "  <tbody>\n",
       "    <tr>\n",
       "      <th>0</th>\n",
       "      <td>Online Khabar</td>\n",
       "      <td>https://www.onlinekhabar.com/</td>\n",
       "      <td>1</td>\n",
       "      <td>134</td>\n",
       "    </tr>\n",
       "    <tr>\n",
       "      <th>1</th>\n",
       "      <td>eKantipur</td>\n",
       "      <td>http://www.ekantipur.com/</td>\n",
       "      <td>58</td>\n",
       "      <td>58</td>\n",
       "    </tr>\n",
       "    <tr>\n",
       "      <th>2</th>\n",
       "      <td>Setopati</td>\n",
       "      <td>https://www.setopati.com/</td>\n",
       "      <td>112</td>\n",
       "      <td>113</td>\n",
       "    </tr>\n",
       "    <tr>\n",
       "      <th>3</th>\n",
       "      <td>The Himalayan Times</td>\n",
       "      <td>https://thehimalayantimes.com/</td>\n",
       "      <td>135</td>\n",
       "      <td>137</td>\n",
       "    </tr>\n",
       "    <tr>\n",
       "      <th>4</th>\n",
       "      <td>My Republica</td>\n",
       "      <td>https://myrepublica.nagariknetwork.com/</td>\n",
       "      <td>89</td>\n",
       "      <td>90</td>\n",
       "    </tr>\n",
       "    <tr>\n",
       "      <th>5</th>\n",
       "      <td>Nepal News</td>\n",
       "      <td>https://www.nepalnews.com/</td>\n",
       "      <td>96</td>\n",
       "      <td>106</td>\n",
       "    </tr>\n",
       "    <tr>\n",
       "      <th>6</th>\n",
       "      <td>Gorkhapatra</td>\n",
       "      <td>http://www.gorkhapatraonline.com/</td>\n",
       "      <td>40</td>\n",
       "      <td>42</td>\n",
       "    </tr>\n",
       "    <tr>\n",
       "      <th>7</th>\n",
       "      <td>Nepali Times</td>\n",
       "      <td>https://www.nepalitimes.com/</td>\n",
       "      <td>80</td>\n",
       "      <td>81</td>\n",
       "    </tr>\n",
       "  </tbody>\n",
       "</table>\n",
       "</div>"
      ],
      "text/plain": [
       "                Portal                                     Link  alt_count  \\\n",
       "0        Online Khabar            https://www.onlinekhabar.com/          1   \n",
       "1            eKantipur                http://www.ekantipur.com/         58   \n",
       "2             Setopati                https://www.setopati.com/        112   \n",
       "3  The Himalayan Times           https://thehimalayantimes.com/        135   \n",
       "4         My Republica  https://myrepublica.nagariknetwork.com/         89   \n",
       "5           Nepal News               https://www.nepalnews.com/         96   \n",
       "6          Gorkhapatra        http://www.gorkhapatraonline.com/         40   \n",
       "7         Nepali Times             https://www.nepalitimes.com/         80   \n",
       "\n",
       "   image_count  \n",
       "0          134  \n",
       "1           58  \n",
       "2          113  \n",
       "3          137  \n",
       "4           90  \n",
       "5          106  \n",
       "6           42  \n",
       "7           81  "
      ]
     },
     "execution_count": 7,
     "metadata": {},
     "output_type": "execute_result"
    }
   ],
   "source": [
    "df"
   ]
  },
  {
   "cell_type": "code",
   "execution_count": 8,
   "metadata": {
    "collapsed": true
   },
   "outputs": [],
   "source": [
    "df['percent'] = 100*df['alt_count']/df['image_count']"
   ]
  },
  {
   "cell_type": "code",
   "execution_count": 9,
   "metadata": {},
   "outputs": [
    {
     "data": {
      "text/html": [
       "<div>\n",
       "<style>\n",
       "    .dataframe thead tr:only-child th {\n",
       "        text-align: right;\n",
       "    }\n",
       "\n",
       "    .dataframe thead th {\n",
       "        text-align: left;\n",
       "    }\n",
       "\n",
       "    .dataframe tbody tr th {\n",
       "        vertical-align: top;\n",
       "    }\n",
       "</style>\n",
       "<table border=\"1\" class=\"dataframe\">\n",
       "  <thead>\n",
       "    <tr style=\"text-align: right;\">\n",
       "      <th></th>\n",
       "      <th>Portal</th>\n",
       "      <th>Link</th>\n",
       "      <th>alt_count</th>\n",
       "      <th>image_count</th>\n",
       "      <th>percent</th>\n",
       "    </tr>\n",
       "  </thead>\n",
       "  <tbody>\n",
       "    <tr>\n",
       "      <th>0</th>\n",
       "      <td>Online Khabar</td>\n",
       "      <td>https://www.onlinekhabar.com/</td>\n",
       "      <td>1</td>\n",
       "      <td>134</td>\n",
       "      <td>0.746269</td>\n",
       "    </tr>\n",
       "    <tr>\n",
       "      <th>1</th>\n",
       "      <td>eKantipur</td>\n",
       "      <td>http://www.ekantipur.com/</td>\n",
       "      <td>58</td>\n",
       "      <td>58</td>\n",
       "      <td>100.000000</td>\n",
       "    </tr>\n",
       "    <tr>\n",
       "      <th>2</th>\n",
       "      <td>Setopati</td>\n",
       "      <td>https://www.setopati.com/</td>\n",
       "      <td>112</td>\n",
       "      <td>113</td>\n",
       "      <td>99.115044</td>\n",
       "    </tr>\n",
       "    <tr>\n",
       "      <th>3</th>\n",
       "      <td>The Himalayan Times</td>\n",
       "      <td>https://thehimalayantimes.com/</td>\n",
       "      <td>135</td>\n",
       "      <td>137</td>\n",
       "      <td>98.540146</td>\n",
       "    </tr>\n",
       "    <tr>\n",
       "      <th>4</th>\n",
       "      <td>My Republica</td>\n",
       "      <td>https://myrepublica.nagariknetwork.com/</td>\n",
       "      <td>89</td>\n",
       "      <td>90</td>\n",
       "      <td>98.888889</td>\n",
       "    </tr>\n",
       "    <tr>\n",
       "      <th>5</th>\n",
       "      <td>Nepal News</td>\n",
       "      <td>https://www.nepalnews.com/</td>\n",
       "      <td>96</td>\n",
       "      <td>106</td>\n",
       "      <td>90.566038</td>\n",
       "    </tr>\n",
       "    <tr>\n",
       "      <th>6</th>\n",
       "      <td>Gorkhapatra</td>\n",
       "      <td>http://www.gorkhapatraonline.com/</td>\n",
       "      <td>40</td>\n",
       "      <td>42</td>\n",
       "      <td>95.238095</td>\n",
       "    </tr>\n",
       "    <tr>\n",
       "      <th>7</th>\n",
       "      <td>Nepali Times</td>\n",
       "      <td>https://www.nepalitimes.com/</td>\n",
       "      <td>80</td>\n",
       "      <td>81</td>\n",
       "      <td>98.765432</td>\n",
       "    </tr>\n",
       "  </tbody>\n",
       "</table>\n",
       "</div>"
      ],
      "text/plain": [
       "                Portal                                     Link  alt_count  \\\n",
       "0        Online Khabar            https://www.onlinekhabar.com/          1   \n",
       "1            eKantipur                http://www.ekantipur.com/         58   \n",
       "2             Setopati                https://www.setopati.com/        112   \n",
       "3  The Himalayan Times           https://thehimalayantimes.com/        135   \n",
       "4         My Republica  https://myrepublica.nagariknetwork.com/         89   \n",
       "5           Nepal News               https://www.nepalnews.com/         96   \n",
       "6          Gorkhapatra        http://www.gorkhapatraonline.com/         40   \n",
       "7         Nepali Times             https://www.nepalitimes.com/         80   \n",
       "\n",
       "   image_count     percent  \n",
       "0          134    0.746269  \n",
       "1           58  100.000000  \n",
       "2          113   99.115044  \n",
       "3          137   98.540146  \n",
       "4           90   98.888889  \n",
       "5          106   90.566038  \n",
       "6           42   95.238095  \n",
       "7           81   98.765432  "
      ]
     },
     "execution_count": 9,
     "metadata": {},
     "output_type": "execute_result"
    }
   ],
   "source": [
    "df"
   ]
  },
  {
   "cell_type": "code",
   "execution_count": 13,
   "metadata": {},
   "outputs": [
    {
     "data": {
      "application/vnd.plotly.v1+json": {
       "config": {
        "linkText": "Export to plot.ly",
        "plotlyServerURL": "https://plot.ly",
        "showLink": false
       },
       "data": [
        {
         "orientation": "h",
         "type": "bar",
         "uid": "c4b9a5a9-dfee-4b28-bb34-21d9e22ad600",
         "x": [
          0.746268656716418,
          100,
          99.11504424778761,
          98.54014598540147,
          98.88888888888889,
          90.56603773584905,
          95.23809523809524,
          98.76543209876543
         ],
         "y": [
          "Online Khabar",
          "eKantipur",
          "Setopati",
          "The Himalayan Times",
          "My Republica",
          "Nepal News",
          "Gorkhapatra",
          "Nepali Times"
         ]
        }
       ],
       "layout": {}
      },
      "text/html": [
       "<div>\n",
       "        \n",
       "        \n",
       "            <div id=\"868d181f-e701-40a6-9495-441591b19d56\" class=\"plotly-graph-div\" style=\"height:525px; width:100%;\"></div>\n",
       "            <script type=\"text/javascript\">\n",
       "                require([\"plotly\"], function(Plotly) {\n",
       "                    window.PLOTLYENV=window.PLOTLYENV || {};\n",
       "                    window.PLOTLYENV.BASE_URL='https://plot.ly';\n",
       "                    \n",
       "                if (document.getElementById(\"868d181f-e701-40a6-9495-441591b19d56\")) {\n",
       "                    Plotly.newPlot(\n",
       "                        '868d181f-e701-40a6-9495-441591b19d56',\n",
       "                        [{\"orientation\": \"h\", \"type\": \"bar\", \"uid\": \"c4b9a5a9-dfee-4b28-bb34-21d9e22ad600\", \"x\": [0.746268656716418, 100.0, 99.11504424778761, 98.54014598540147, 98.88888888888889, 90.56603773584905, 95.23809523809524, 98.76543209876543], \"y\": [\"Online Khabar\", \"eKantipur\", \"Setopati\", \"The Himalayan Times\", \"My Republica\", \"Nepal News\", \"Gorkhapatra\", \"Nepali Times\"]}],\n",
       "                        {},\n",
       "                        {\"showLink\": false, \"linkText\": \"Export to plot.ly\", \"plotlyServerURL\": \"https://plot.ly\", \"responsive\": true}\n",
       "                    ).then(function(){\n",
       "                            \n",
       "var gd = document.getElementById('868d181f-e701-40a6-9495-441591b19d56');\n",
       "var x = new MutationObserver(function (mutations, observer) {{\n",
       "        var display = window.getComputedStyle(gd).display;\n",
       "        if (!display || display === 'none') {{\n",
       "            console.log([gd, 'removed!']);\n",
       "            Plotly.purge(gd);\n",
       "            observer.disconnect();\n",
       "        }}\n",
       "}});\n",
       "\n",
       "// Listen for the removal of the full notebook cells\n",
       "var notebookContainer = gd.closest('#notebook-container');\n",
       "if (notebookContainer) {{\n",
       "    x.observe(notebookContainer, {childList: true});\n",
       "}}\n",
       "\n",
       "// Listen for the clearing of the current output cell\n",
       "var outputEl = gd.closest('.output');\n",
       "if (outputEl) {{\n",
       "    x.observe(outputEl, {childList: true});\n",
       "}}\n",
       "\n",
       "                        })\n",
       "                };\n",
       "                });\n",
       "            </script>\n",
       "        </div>"
      ]
     },
     "metadata": {},
     "output_type": "display_data"
    }
   ],
   "source": [
    "iplot([go.Bar(y=df.Portal, x=df.percent, orientation=\"h\")])"
   ]
  }
 ],
 "metadata": {
  "kernelspec": {
   "display_name": "Python 3",
   "language": "python",
   "name": "python3"
  },
  "language_info": {
   "codemirror_mode": {
    "name": "ipython",
    "version": 3
   },
   "file_extension": ".py",
   "mimetype": "text/x-python",
   "name": "python",
   "nbconvert_exporter": "python",
   "pygments_lexer": "ipython3",
   "version": "3.6.3"
  }
 },
 "nbformat": 4,
 "nbformat_minor": 2
}
